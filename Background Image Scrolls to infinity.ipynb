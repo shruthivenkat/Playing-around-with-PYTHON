{
 "cells": [
  {
   "cell_type": "code",
   "execution_count": 27,
   "metadata": {},
   "outputs": [
    {
     "ename": "SystemExit",
     "evalue": "",
     "output_type": "error",
     "traceback": [
      "An exception has occurred, use %tb to see the full traceback.\n",
      "\u001b[1;31mSystemExit\u001b[0m\n"
     ]
    },
    {
     "name": "stderr",
     "output_type": "stream",
     "text": [
      "C:\\Users\\pc-pc\\Anaconda3\\lib\\site-packages\\IPython\\core\\interactiveshell.py:2971: UserWarning: To exit: use 'exit', 'quit', or Ctrl-D.\n",
      "  warn(\"To exit: use 'exit', 'quit', or Ctrl-D.\", stacklevel=1)\n"
     ]
    }
   ],
   "source": [
    "import pygame\n",
    "from pygame.locals import *\n",
    "import sys\n",
    "import os\n",
    "\n",
    "def events():\n",
    "\tfor event in pygame.event.get():\n",
    "\t\tif event.type == QUIT or (event.type == KEYDOWN and event.key == K_ESCAPE):\n",
    "\t\t\tpygame.quit()\n",
    "\t\t\tsys.exit()\n",
    "\n",
    "# define display surface\t\t\t\n",
    "W, H = 576, 1024\n",
    "HW, HH = W / 2, H / 2\n",
    "AREA = W * H\n",
    "\n",
    "os.environ['SDL_VIDEO_WINDOW_POS'] = \"50,50\"\n",
    "\n",
    "# setup pygame\n",
    "pygame.init()\n",
    "CLOCK = pygame.time.Clock()\n",
    "DS = pygame.display.set_mode((W, H))\n",
    "pygame.display.set_caption(\"code.Pylet - Scrolling Background Image\")\n",
    "FPS = 120\n",
    "\n",
    "bkgd = pygame.image.load(r\"C:\\Users\\pc-pc\\Downloads\\mountains.png\").convert()\n",
    "x = 0\n",
    "\n",
    "# main loop\n",
    "while True:\n",
    "\tevents()\n",
    "\n",
    "\trel_x = x % bkgd.get_rect().width\n",
    "\tDS.blit(bkgd, (rel_x - bkgd.get_rect().width, 0))\n",
    "\tif rel_x < W:\n",
    "\t\tDS.blit(bkgd, (rel_x, 0))\n",
    "\tx -= 1\n",
    "\tpygame.draw.line(DS, (255, 0, 0), (rel_x, 0), (rel_x, H), 3)\n",
    "\t\n",
    "\tpygame.display.update()\n",
    "\tCLOCK.tick(FPS)"
   ]
  },
  {
   "cell_type": "code",
   "execution_count": null,
   "metadata": {},
   "outputs": [],
   "source": []
  }
 ],
 "metadata": {
  "kernelspec": {
   "display_name": "Python 3",
   "language": "python",
   "name": "python3"
  },
  "language_info": {
   "codemirror_mode": {
    "name": "ipython",
    "version": 3
   },
   "file_extension": ".py",
   "mimetype": "text/x-python",
   "name": "python",
   "nbconvert_exporter": "python",
   "pygments_lexer": "ipython3",
   "version": "3.6.5"
  }
 },
 "nbformat": 4,
 "nbformat_minor": 2
}
