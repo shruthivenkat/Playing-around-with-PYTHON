{
 "cells": [
  {
   "cell_type": "code",
   "execution_count": 25,
   "metadata": {},
   "outputs": [],
   "source": [
    "import pygame as pg"
   ]
  },
  {
   "cell_type": "code",
   "execution_count": 26,
   "metadata": {},
   "outputs": [
    {
     "data": {
      "text/plain": [
       "(6, 0)"
      ]
     },
     "execution_count": 26,
     "metadata": {},
     "output_type": "execute_result"
    }
   ],
   "source": [
    "pg.init()"
   ]
  },
  {
   "cell_type": "code",
   "execution_count": 27,
   "metadata": {},
   "outputs": [],
   "source": [
    "window = pg.display.set_mode((500,500))\n",
    "pg.display.set_caption(\"first game\")\n",
    "\n",
    "x = 50\n",
    "y = 450\n",
    "width = 40\n",
    "height = 60\n",
    "velocity = 10\n",
    "\n",
    "screen = 500\n",
    "\n",
    "\n",
    "isJump = False\n",
    "jumpcount = 10\n",
    "\n",
    "\n",
    "run = True\n",
    "while run:\n",
    "    pg.time.delay(100) # ----> 0.1ms \n",
    "    for event in pg.event.get():\n",
    "        if event.type == pg.QUIT:\n",
    "            run = False\n",
    "    \n",
    "    keys = pg.key.get_pressed()\n",
    "    if keys[pg.K_LEFT] and x > velocity:\n",
    "        x -= velocity\n",
    "    if keys[pg.K_RIGHT] and x < screen - width - velocity:\n",
    "        x += velocity\n",
    "#     if not(isJump):\n",
    "    if keys[pg.K_UP] and y > velocity:\n",
    "        y -= velocity\n",
    "    if keys[pg.K_DOWN] and y < screen - height - velocity:\n",
    "        y += velocity\n",
    "#         if keys[pg.K_SPACE]:\n",
    "#             isJump = True\n",
    "    else:\n",
    "        if jumpcount >= -10:\n",
    "            neg = 1 \n",
    "            if jumpcount < 0:\n",
    "                neg = -1\n",
    "            y -= (jumpcount ** 2) * 0.5 * neg\n",
    "            jumpcount -= 1\n",
    "        else:\n",
    "            jsJump = False\n",
    "            jumpcount = 10\n",
    "        \n",
    "    window.fill((0,0,0))\n",
    "    pg.draw.rect(window,(255, 0, 0), (x, y, width, height))\n",
    "    pg.display.update()\n",
    "            \n",
    "pg.quit()"
   ]
  },
  {
   "cell_type": "code",
   "execution_count": null,
   "metadata": {},
   "outputs": [],
   "source": []
  },
  {
   "cell_type": "code",
   "execution_count": null,
   "metadata": {},
   "outputs": [],
   "source": []
  },
  {
   "cell_type": "code",
   "execution_count": null,
   "metadata": {},
   "outputs": [],
   "source": []
  },
  {
   "cell_type": "code",
   "execution_count": null,
   "metadata": {},
   "outputs": [],
   "source": []
  }
 ],
 "metadata": {
  "kernelspec": {
   "display_name": "Python 3",
   "language": "python",
   "name": "python3"
  },
  "language_info": {
   "codemirror_mode": {
    "name": "ipython",
    "version": 3
   },
   "file_extension": ".py",
   "mimetype": "text/x-python",
   "name": "python",
   "nbconvert_exporter": "python",
   "pygments_lexer": "ipython3",
   "version": "3.6.5"
  }
 },
 "nbformat": 4,
 "nbformat_minor": 2
}
